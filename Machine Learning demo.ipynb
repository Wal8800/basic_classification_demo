{
 "cells": [
  {
   "cell_type": "markdown",
   "metadata": {},
   "source": [
    "### Summary\n",
    "\n",
    "I'll be doing a simple classification problem demo to highlight the steps for machine learning\n",
    "So this demo is about classify if a person survived in the titanic incident. I'll be using the data from kaggle (https://www.kaggle.com/c/titanic/data)\n",
    "Also i'll be doing this demo in python with these particular packages library.\n",
    "There are other library and also in other languages such as R to do some machine learning\n"
   ]
  },
  {
   "cell_type": "markdown",
   "metadata": {},
   "source": [
    "### Exploring the data\n",
    "\n",
    "ok the first step is look at what data we have, so let have look at the first few row\n",
    "so each row would represent a person in the titanic and each column would be the feature\n",
    "We can see that some feature are in numerical value while some are in string. Also some column doesn't have value"
   ]
  },
  {
   "cell_type": "code",
   "execution_count": 14,
   "metadata": {},
   "outputs": [
    {
     "name": "stdout",
     "output_type": "stream",
     "text": [
      "   PassengerId  Pclass                                               Name     Sex   Age  SibSp  Parch            Ticket     Fare Cabin Embarked\n",
      "0            1       3                            Braund, Mr. Owen Harris    male  22.0      1      0         A/5 21171   7.2500   NaN        S\n",
      "1            2       1  Cumings, Mrs. John Bradley (Florence Briggs Th...  female  38.0      1      0          PC 17599  71.2833   C85        C\n",
      "2            3       3                             Heikkinen, Miss. Laina  female  26.0      0      0  STON/O2. 3101282   7.9250   NaN        S\n",
      "3            4       1       Futrelle, Mrs. Jacques Heath (Lily May Peel)  female  35.0      1      0            113803  53.1000  C123        S\n",
      "4            5       3                           Allen, Mr. William Henry    male  35.0      0      0            373450   8.0500   NaN        S\n",
      "5            6       3                                   Moran, Mr. James    male   NaN      0      0            330877   8.4583   NaN        Q\n",
      "6            7       1                            McCarthy, Mr. Timothy J    male  54.0      0      0             17463  51.8625   E46        S\n",
      "7            8       3                     Palsson, Master. Gosta Leonard    male   2.0      3      1            349909  21.0750   NaN        S\n",
      "8            9       3  Johnson, Mrs. Oscar W (Elisabeth Vilhelmina Berg)  female  27.0      0      2            347742  11.1333   NaN        S\n",
      "9           10       2                Nasser, Mrs. Nicholas (Adele Achem)  female  14.0      1      0            237736  30.0708   NaN        C\n",
      "\n",
      "       PassengerId       Pclass          Age        SibSp        Parch         Fare\n",
      "count  1309.000000  1309.000000  1046.000000  1309.000000  1309.000000  1308.000000\n",
      "mean    655.000000     2.294882    29.881138     0.498854     0.385027    33.295479\n",
      "std     378.020061     0.837836    14.413493     1.041658     0.865560    51.758668\n",
      "min       1.000000     1.000000     0.170000     0.000000     0.000000     0.000000\n",
      "25%     328.000000     2.000000    21.000000     0.000000     0.000000     7.895800\n",
      "50%     655.000000     3.000000    28.000000     0.000000     0.000000    14.454200\n",
      "75%     982.000000     3.000000    39.000000     1.000000     0.000000    31.275000\n",
      "max    1309.000000     3.000000    80.000000     8.000000     9.000000   512.329200\n",
      "\n",
      "<class 'pandas.core.frame.DataFrame'>\n",
      "RangeIndex: 1309 entries, 0 to 1308\n",
      "Data columns (total 11 columns):\n",
      "PassengerId    1309 non-null int64\n",
      "Pclass         1309 non-null int64\n",
      "Name           1309 non-null object\n",
      "Sex            1309 non-null object\n",
      "Age            1046 non-null float64\n",
      "SibSp          1309 non-null int64\n",
      "Parch          1309 non-null int64\n",
      "Ticket         1309 non-null object\n",
      "Fare           1308 non-null float64\n",
      "Cabin          295 non-null object\n",
      "Embarked       1307 non-null object\n",
      "dtypes: float64(2), int64(4), object(5)\n",
      "memory usage: 112.6+ KB\n",
      "None\n"
     ]
    }
   ],
   "source": [
    "import pandas as pd\n",
    "import numpy as np\n",
    "\n",
    "from sklearn.linear_model import LogisticRegression\n",
    "\n",
    "pd.set_option('display.max_rows', 500)\n",
    "pd.set_option('display.max_columns', 500)\n",
    "pd.set_option('display.width', 1000)\n",
    "\n",
    "def print_initial_summary(combined):\n",
    "    print(combined.head(10))\n",
    "    print(\"\")\n",
    "    print(combined.describe())\n",
    "    print(\"\")\n",
    "    print(combined.info())\n",
    "\n",
    "# reading train data\n",
    "train = pd.read_csv('dataset/titanic/train.csv')\n",
    "\n",
    "# reading test data\n",
    "test = pd.read_csv('dataset/titanic/test.csv')\n",
    "\n",
    "# extracting and then removing the targets from the training data\n",
    "targets = train.Survived\n",
    "train.drop('Survived', 1, inplace=True)\n",
    "\n",
    "# merging train data and test data for future feature engineering\n",
    "combined = train.append(test)\n",
    "combined.reset_index(inplace=True)\n",
    "combined.drop('index', inplace=True, axis=1)\n",
    "\n",
    "print_initial_summary(combined)"
   ]
  },
  {
   "cell_type": "code",
   "execution_count": 15,
   "metadata": {},
   "outputs": [
    {
     "name": "stdout",
     "output_type": "stream",
     "text": [
      "\n",
      "===resultant dataset===\n",
      "   Pclass   Age  SibSp  Parch     Fare  Embarked_C  Embarked_Q  Embarked_S  Sex_female  Sex_male  Title_Lady  Title_Master  Title_Miss  Title_Mr  Title_Mrs  Title_Ms  Title_Rare  Title_Sir\n",
      "0       3  22.0      1      0   7.2500           0           0           1           0         1           0             0           0         1          0         0           0          0\n",
      "1       1  38.0      1      0  71.2833           1           0           0           1         0           0             0           0         0          1         0           0          0\n",
      "2       3  26.0      0      0   7.9250           0           0           1           1         0           0             0           1         0          0         0           0          0\n",
      "3       1  35.0      1      0  53.1000           0           0           1           1         0           0             0           0         0          1         0           0          0\n",
      "4       3  35.0      0      0   8.0500           0           0           1           0         1           0             0           0         1          0         0           0          0\n",
      "\n",
      "===normalized dataset===\n",
      "     Pclass       Age     SibSp     Parch      Fare  Embarked_C  Embarked_Q  Embarked_S  Sex_female  Sex_male  Title_Lady  Title_Master  Title_Miss  Title_Mr  Title_Mrs  Title_Ms  Title_Rare  Title_Sir\n",
      "0  0.352559 -0.093990  0.062643 -0.042781 -0.050809   -0.206264   -0.093965    0.300229   -0.355997  0.355997   -0.000764       -0.0466   -0.198625  0.421696  -0.150497 -0.001528   -0.022918  -0.000764\n",
      "1 -0.647441  0.106436  0.062643 -0.042781  0.074175    0.793736   -0.093965   -0.699771    0.644003 -0.644003   -0.000764       -0.0466   -0.198625 -0.578304   0.849503 -0.001528   -0.022918  -0.000764\n",
      "2  0.352559 -0.043883 -0.062357 -0.042781 -0.049492   -0.206264   -0.093965    0.300229    0.644003 -0.644003   -0.000764       -0.0466    0.801375 -0.578304  -0.150497 -0.001528   -0.022918  -0.000764\n",
      "3 -0.647441  0.068856  0.062643 -0.042781  0.038684   -0.206264   -0.093965    0.300229    0.644003 -0.644003   -0.000764       -0.0466   -0.198625 -0.578304   0.849503 -0.001528   -0.022918  -0.000764\n",
      "4  0.352559  0.068856 -0.062357 -0.042781 -0.049248   -0.206264   -0.093965    0.300229   -0.355997  0.355997   -0.000764       -0.0466   -0.198625  0.421696  -0.150497 -0.001528   -0.022918  -0.000764\n"
     ]
    }
   ],
   "source": [
    "# lets fill in the missing value for ages. a simple approach will be taking the median and put into the missing slot\n",
    "combined['Age'].fillna(combined['Age'].median(), inplace=True)\n",
    "combined['Fare'].fillna(combined['Fare'].median(), inplace=True)\n",
    "combined[\"Embarked\"].fillna(\"S\", inplace=True)\n",
    "\n",
    "# encode the non numerical value\n",
    "embarked_dummies = pd.get_dummies(combined['Embarked'], prefix='Embarked')\n",
    "combined = pd.concat([combined, embarked_dummies], axis=1)\n",
    "combined.drop('Embarked', axis=1, inplace=True)\n",
    "\n",
    "sex_dummies = pd.get_dummies(combined['Sex'], prefix='Sex')\n",
    "combined = pd.concat([combined, sex_dummies], axis=1)\n",
    "combined.drop('Sex', axis=1, inplace=True)\n",
    "\n",
    "def process_title(name):\n",
    "    title = name.split(',')[1].split('.')[0].strip()\n",
    "    white_list = ['Mr', 'Mrs', 'Miss', 'Master', 'Lady', 'Ms', 'Sir']\n",
    "    if title in white_list:\n",
    "        return title\n",
    "    else:\n",
    "        return 'Rare'\n",
    "\n",
    "combined['Title'] = combined['Name'].map(lambda name: process_title(name))\n",
    "title_dummies = pd.get_dummies(combined['Title'], prefix=\"Title\")\n",
    "combined = pd.concat([combined, title_dummies], axis=1)\n",
    "combined.drop('Title', axis=1, inplace=True)\n",
    "\n",
    "# dropping feature that aren't useful\n",
    "combined = combined.drop(['PassengerId', 'Name', 'Ticket', 'Cabin'], axis=1)\n",
    "\n",
    "print()\n",
    "print(\"===resultant dataset===\")\n",
    "print(combined.head())\n",
    "\n",
    "# now we need to scale / normalise the value\n",
    "features = list(combined.columns)\n",
    "combined[features] = combined[features].apply(lambda x: (x - x.mean()) / (x.max()-x.min()), axis=0)\n",
    "\n",
    "print()\n",
    "print(\"===normalized dataset===\")\n",
    "print(combined.head())"
   ]
  },
  {
   "cell_type": "code",
   "execution_count": 16,
   "metadata": {},
   "outputs": [
    {
     "name": "stdout",
     "output_type": "stream",
     "text": [
      "[LibLinear]0.83164983165\n"
     ]
    }
   ],
   "source": [
    "train0 = pd.read_csv('dataset/titanic/train.csv')\n",
    "\n",
    "targets = train0.Survived\n",
    "train = combined[0:891]\n",
    "test = combined[891:]\n",
    "\n",
    "# perform a logistic regression algorithm\n",
    "\n",
    "logreg = LogisticRegression(verbose=1)\n",
    "\n",
    "logreg.fit(train, targets)\n",
    "\n",
    "print(logreg.score(train, targets))\n",
    "\n",
    "# getting prediction for the test set\n",
    "\n",
    "Y_pred = logreg.predict(test)\n",
    "\n",
    "test_df = pd.read_csv('dataset/titanic/test.csv')\n",
    "\n",
    "submission = pd.DataFrame({\n",
    "        \"PassengerId\": test_df[\"PassengerId\"],\n",
    "        \"Survived\": Y_pred\n",
    "    })\n",
    "\n",
    "submission.to_csv('dataset/titanic/output.csv', index=False)"
   ]
  }
 ],
 "metadata": {
  "kernelspec": {
   "display_name": "Python 3",
   "language": "python",
   "name": "python3"
  },
  "language_info": {
   "codemirror_mode": {
    "name": "ipython",
    "version": 3
   },
   "file_extension": ".py",
   "mimetype": "text/x-python",
   "name": "python",
   "nbconvert_exporter": "python",
   "pygments_lexer": "ipython3",
   "version": "3.6.1"
  }
 },
 "nbformat": 4,
 "nbformat_minor": 2
}
